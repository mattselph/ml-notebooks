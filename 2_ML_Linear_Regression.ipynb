{
  "nbformat": 4,
  "nbformat_minor": 0,
  "metadata": {
    "colab": {
      "name": "2 ML-Linear Regression",
      "version": "0.3.2",
      "provenance": [],
      "collapsed_sections": [],
      "include_colab_link": true
    },
    "kernelspec": {
      "name": "python3",
      "display_name": "Python 3"
    }
  },
  "cells": [
    {
      "cell_type": "markdown",
      "metadata": {
        "id": "view-in-github",
        "colab_type": "text"
      },
      "source": [
        "<a href=\"https://colab.research.google.com/github/mattselph/ml-notebooks/blob/master/2_ML_Linear_Regression.ipynb\" target=\"_parent\"><img src=\"https://colab.research.google.com/assets/colab-badge.svg\" alt=\"Open In Colab\"/></a>"
      ]
    },
    {
      "cell_type": "markdown",
      "metadata": {
        "id": "CtsmW4IJ700x",
        "colab_type": "text"
      },
      "source": [
        "# Linear Regression\n",
        "One of the simplest forms of Machine Learning, you fit a best-fit line to a two-dimensional plot containing one independent variable (called a ```feature``` in Machine Learning) and a dependent variable (called a ```target``` or ```outcome``` in Machine Learning)."
      ]
    },
    {
      "cell_type": "markdown",
      "metadata": {
        "id": "o54lu2gO8dZy",
        "colab_type": "text"
      },
      "source": [
        "# Data\n",
        "This uses the boston housing dataset which is included in ```scikit-learn```."
      ]
    },
    {
      "cell_type": "code",
      "metadata": {
        "id": "wl2soU4iQ1kP",
        "colab_type": "code",
        "colab": {}
      },
      "source": [
        "import numpy as np\n",
        "import pandas as pd\n",
        "import matplotlib.pyplot as plt\n",
        "\n",
        "from sklearn import datasets\n",
        "\n",
        "boston = datasets.load_boston()"
      ],
      "execution_count": 0,
      "outputs": []
    },
    {
      "cell_type": "markdown",
      "metadata": {
        "id": "ofqhnKsdyLV4",
        "colab_type": "text"
      },
      "source": [
        "The features are in a numpy array called ```boston['data']``` and the targets are in a numpy array called ```boston['target']```.  The target values represent median home prices in Boston, in thousands."
      ]
    },
    {
      "cell_type": "code",
      "metadata": {
        "id": "LGO8rbO0zRlO",
        "colab_type": "code",
        "outputId": "c0a90247-29e2-4a32-e9b0-5d083a9ff5f9",
        "colab": {
          "base_uri": "https://localhost:8080/",
          "height": 51
        }
      },
      "source": [
        "boston['feature_names']"
      ],
      "execution_count": 2,
      "outputs": [
        {
          "output_type": "execute_result",
          "data": {
            "text/plain": [
              "array(['CRIM', 'ZN', 'INDUS', 'CHAS', 'NOX', 'RM', 'AGE', 'DIS', 'RAD',\n",
              "       'TAX', 'PTRATIO', 'B', 'LSTAT'], dtype='<U7')"
            ]
          },
          "metadata": {
            "tags": []
          },
          "execution_count": 2
        }
      ]
    },
    {
      "cell_type": "markdown",
      "metadata": {
        "id": "d-5z7ClYGueZ",
        "colab_type": "text"
      },
      "source": [
        "# Question to Answer\n",
        "Can we predict the median home value based on the number of rooms in the home using linear regression?"
      ]
    },
    {
      "cell_type": "markdown",
      "metadata": {
        "id": "JqiKTrl7AnOs",
        "colab_type": "text"
      },
      "source": [
        "## Preprocessing\n",
        "The ```RM``` feature name represents the proportion of blacks by town.  Get that into its own array and plot it against the median home prices to see if there's a correlation."
      ]
    },
    {
      "cell_type": "code",
      "metadata": {
        "id": "AOeDiaoW01cO",
        "colab_type": "code",
        "colab": {}
      },
      "source": [
        "rooms = boston.data[:, np.newaxis, 5]      # RM is the feature column label\n",
        "prices = boston.target\n",
        "\n",
        "prices = prices.reshape(len(prices), 1)"
      ],
      "execution_count": 0,
      "outputs": []
    },
    {
      "cell_type": "code",
      "metadata": {
        "id": "BV7uOXmgH8Sa",
        "colab_type": "code",
        "outputId": "86a8aace-7d0b-4fcb-f207-e1d6a21d8a3a",
        "colab": {
          "base_uri": "https://localhost:8080/",
          "height": 283
        }
      },
      "source": [
        "# scatter plot\n",
        "plt.scatter(x=rooms, y=prices)\n",
        "plt.xlabel('Number of Rooms')\n",
        "plt.ylabel('Median Home Value (1000s)')\n",
        "plt.show()"
      ],
      "execution_count": 4,
      "outputs": [
        {
          "output_type": "display_data",
          "data": {
            "image/png": "[encoded data removed]",
            "text/plain": [
              "<Figure size 432x288 with 1 Axes>"
            ]
          },
          "metadata": {
            "tags": []
          }
        }
      ]
    },
    {
      "cell_type": "markdown",
      "metadata": {
        "id": "_qy2KTlIOqRK",
        "colab_type": "text"
      },
      "source": [
        "## Train the Model\n",
        "The data shows there is a positive correlation between number of rooms and median home prices.  But can we use the number of rooms to predict a home's median price?  \n",
        "\n",
        "When training a model, you need a training set that's a subset of all your data.  The rest belongs to a test set that you use to run your trained model against to see how accurate it is.  An 80/20 split is common (80% training, 20% testing).\n",
        "\n",
        "**In regression, the way you train a model is to fit a line.**"
      ]
    },
    {
      "cell_type": "code",
      "metadata": {
        "id": "mD8v00nxPa9w",
        "colab_type": "code",
        "outputId": "2b1203bf-a768-43d5-f1b0-6d9684f6bc92",
        "colab": {
          "base_uri": "https://localhost:8080/",
          "height": 34
        }
      },
      "source": [
        "from sklearn import linear_model\n",
        "from sklearn.model_selection import train_test_split\n",
        "\n",
        "# 80/20 test/train split\n",
        "X_train = rooms[:round(len(rooms)*.80)]\n",
        "X_test = rooms[round(len(rooms)*.80)+1:]\n",
        "\n",
        "y_train = prices[:round(len(prices)*.80)]\n",
        "y_test = prices[round(len(prices)*.80)+1:]\n",
        "\n",
        "# fit the line\n",
        "regr = linear_model.LinearRegression()\n",
        "regr.fit(X_train, y_train)"
      ],
      "execution_count": 5,
      "outputs": [
        {
          "output_type": "execute_result",
          "data": {
            "text/plain": [
              "LinearRegression(copy_X=True, fit_intercept=True, n_jobs=None, normalize=False)"
            ]
          },
          "metadata": {
            "tags": []
          },
          "execution_count": 5
        }
      ]
    },
    {
      "cell_type": "markdown",
      "metadata": {
        "id": "0voi00-MCOvl",
        "colab_type": "text"
      },
      "source": [
        "## Test the Model\n",
        "Now use the model against the test dataset.  "
      ]
    },
    {
      "cell_type": "code",
      "metadata": {
        "id": "oRXxQWnyCrQR",
        "colab_type": "code",
        "colab": {}
      },
      "source": [
        "pred = regr.predict(X_test)"
      ],
      "execution_count": 0,
      "outputs": []
    },
    {
      "cell_type": "code",
      "metadata": {
        "id": "rfi4XVZfCxAI",
        "colab_type": "code",
        "outputId": "3eb4c96b-58e7-459f-b3eb-65b891975b5d",
        "colab": {
          "base_uri": "https://localhost:8080/",
          "height": 283
        }
      },
      "source": [
        "plt.scatter(x=X_test, y=y_test)\n",
        "plt.plot(X_test, pred, color='red')\n",
        "plt.xlabel('# of rooms')\n",
        "plt.ylabel(\"Media Home Value ($1000s)\")\n",
        "plt.show()"
      ],
      "execution_count": 7,
      "outputs": [
        {
          "output_type": "display_data",
          "data": {
            "image/png": "[encoded data removed]",
            "text/plain": [
              "<Figure size 432x288 with 1 Axes>"
            ]
          },
          "metadata": {
            "tags": []
          }
        }
      ]
    },
    {
      "cell_type": "markdown",
      "metadata": {
        "id": "iTlOyouJJTwP",
        "colab_type": "text"
      },
      "source": [
        "## Evaluating the model\n",
        "Regression lines seek to minimize the mean squared error between the points on the graph.  We can see the mean squared error (MSE) and the variance, which is a statistical measure of how accurate the prediction is with ```scikit-learn```."
      ]
    },
    {
      "cell_type": "code",
      "metadata": {
        "id": "UNaKAZDHJ11m",
        "colab_type": "code",
        "outputId": "d76d0bbe-39ec-4ccb-934d-a3f5633b27c2",
        "colab": {
          "base_uri": "https://localhost:8080/",
          "height": 34
        }
      },
      "source": [
        "# r2_score is the variance\n",
        "from sklearn.metrics import mean_squared_error, r2_score\n",
        "\n",
        "# provide the actual test data and the predicted values \n",
        "# so it can see how accurate it was\n",
        "mse = mean_squared_error(y_test, pred)\n",
        "r2 = r2_score(y_test, pred)\n",
        "\n",
        "print(\"MSE: %.2f\\tVariance: %.2f\" % (mse, r2))"
      ],
      "execution_count": 8,
      "outputs": [
        {
          "output_type": "stream",
          "text": [
            "MSE: 72.90\tVariance: -1.85\n"
          ],
          "name": "stdout"
        }
      ]
    },
    {
      "cell_type": "markdown",
      "metadata": {
        "id": "vqehw5wcKk8g",
        "colab_type": "text"
      },
      "source": [
        "The closer to 0 the MSE is, the better.  The closer to 1 the Variance is, the better."
      ]
    },
    {
      "cell_type": "markdown",
      "metadata": {
        "id": "XpuAb6Z2KtNb",
        "colab_type": "text"
      },
      "source": [
        "# Conclusion\n",
        "The MSE and Variance aren't that great, meaning we can't really determine with a lot of accuracy the median price of a home based on the number of rooms.  "
      ]
    },
    {
      "cell_type": "code",
      "metadata": {
        "id": "conFnSzo8an3",
        "colab_type": "code",
        "colab": {}
      },
      "source": [
        ""
      ],
      "execution_count": 0,
      "outputs": []
    }
  ]
}