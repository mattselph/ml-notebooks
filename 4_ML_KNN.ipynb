{
  "nbformat": 4,
  "nbformat_minor": 0,
  "metadata": {
    "colab": {
      "name": "4 ML - KNN.ipynb",
      "version": "0.3.2",
      "provenance": [],
      "collapsed_sections": [],
      "toc_visible": true,
      "include_colab_link": true
    },
    "kernelspec": {
      "name": "python3",
      "display_name": "Python 3"
    }
  },
  "cells": [
    {
      "cell_type": "markdown",
      "metadata": {
        "id": "view-in-github",
        "colab_type": "text"
      },
      "source": [
        "<a href=\"https://colab.research.google.com/github/mattselph/ml-notebooks/blob/master/4_ML_KNN.ipynb\" target=\"_parent\"><img src=\"https://colab.research.google.com/assets/colab-badge.svg\" alt=\"Open In Colab\"/></a>"
      ]
    },
    {
      "cell_type": "markdown",
      "metadata": {
        "id": "i8Iivr5H2bjH",
        "colab_type": "text"
      },
      "source": [
        "# *K* Nearest Neighbors (KNN)\n",
        "*K* Nearest Neighbors (KNN) is an algorithm that can be used in either classification or regression.  It works by polling the nearest values (neighbors) of a point to ascertain what category the point is in.  The *K* variable is how many neighbors it will poll to determine the category."
      ]
    },
    {
      "cell_type": "markdown",
      "metadata": {
        "id": "M65yTG7B23lW",
        "colab_type": "text"
      },
      "source": [
        "## Explanation\n",
        "In the scatter plot below, which class would the star point belong to?  \n",
        "![knn_scatter](https://www.edureka.co/blog/wp-content/uploads/2018/07/KNN-Algorithm-k3-edureka-437x300.png)  \n",
        "\n",
        "It could belong to either the blue or the orange class.  It depends on the value you give K.  If you give it K=3, then it will find the closest 3 neighbors and figure out what the majority is (2 orange, 1 blue, so it belongs to orange).  \n",
        "\n",
        "If you give it K=5, it will likely circle the two orange and one blue like it has already, but then circle the two blue dots that are close to the existing circle.  In that case, it would classify it as a blue dot."
      ]
    },
    {
      "cell_type": "markdown",
      "metadata": {
        "id": "B6s1hAO19NYV",
        "colab_type": "text"
      },
      "source": [
        "# Data\n",
        "Use the [Halloween candy dataset](https://raw.githubusercontent.com/mattselph/datasets/master/candy-data.csv) that was used in the Logistic Regression notebook to see if there's a more accurate result."
      ]
    },
    {
      "cell_type": "markdown",
      "metadata": {
        "id": "ZmWJ4DTA9lGv",
        "colab_type": "text"
      },
      "source": [
        "# Question to Answer\n",
        "Using the percentage of sugar and the cost, can you determine if the candy has chocolate in it?"
      ]
    },
    {
      "cell_type": "markdown",
      "metadata": {
        "id": "3-s6plmH9yIS",
        "colab_type": "text"
      },
      "source": [
        "## Preprocessing"
      ]
    },
    {
      "cell_type": "code",
      "metadata": {
        "id": "zlEhQIca9urt",
        "colab_type": "code",
        "outputId": "5d489a27-c578-4359-b7ae-4c45d645f608",
        "colab": {
          "base_uri": "https://localhost:8080/",
          "height": 369
        }
      },
      "source": [
        "import pandas as pd\n",
        "import seaborn as sns\n",
        "import matplotlib.pyplot as plt\n",
        "\n",
        "from sklearn.model_selection import train_test_split\n",
        "\n",
        "df = pd.read_csv('https://raw.githubusercontent.com/mattselph/datasets/master/candy-data.csv')\n",
        "candy = df[['sugarpercent', 'pricepercent', 'chocolate']]\n",
        "\n",
        "X = candy[['sugarpercent', 'pricepercent']]\n",
        "y = candy['chocolate']\n",
        "\n",
        "# scatter plot\n",
        "sns.lmplot('sugarpercent', 'pricepercent', data=candy, hue='chocolate', fit_reg=False)\n",
        "plt.show()"
      ],
      "execution_count": 1,
      "outputs": [
        {
          "output_type": "display_data",
          "data": {
            "image/png": "[encoded data removed]",
            "text/plain": [
              "<Figure size 416.375x360 with 1 Axes>"
            ]
          },
          "metadata": {
            "tags": []
          }
        }
      ]
    },
    {
      "cell_type": "markdown",
      "metadata": {
        "id": "l-KCjlkNLUxE",
        "colab_type": "text"
      },
      "source": [
        "So KNN is going to try and classify points using their nearest neighbor.  When it encounters a new variable, it will look at the closest *k* neighbors and figure out which class it belongs in based on that."
      ]
    },
    {
      "cell_type": "code",
      "metadata": {
        "id": "vUme4HqaHyDI",
        "colab_type": "code",
        "colab": {}
      },
      "source": [
        "X_train, X_test, y_train, y_test = train_test_split(X, y, test_size=0.8)"
      ],
      "execution_count": 0,
      "outputs": []
    },
    {
      "cell_type": "markdown",
      "metadata": {
        "id": "zHZdzaaF-Vpn",
        "colab_type": "text"
      },
      "source": [
        "## Train the Model\n",
        "Use ```sklearn.neighbors.KNeighborsClassifier``` for this algorithm.  By default, it uses a *K* value of 5.  I'm going to use 3 and play with that parameter a bit just to see how it changes the result."
      ]
    },
    {
      "cell_type": "code",
      "metadata": {
        "id": "R7BlM1ld-26H",
        "colab_type": "code",
        "colab": {}
      },
      "source": [
        "k = 9"
      ],
      "execution_count": 0,
      "outputs": []
    },
    {
      "cell_type": "code",
      "metadata": {
        "id": "9nP4w_hP-d97",
        "colab_type": "code",
        "outputId": "e1b8ab00-34db-41e1-b751-e674e6177c1b",
        "colab": {
          "base_uri": "https://localhost:8080/",
          "height": 68
        }
      },
      "source": [
        "from sklearn.neighbors import KNeighborsClassifier\n",
        "\n",
        "knn = KNeighborsClassifier(n_neighbors=k)\n",
        "knn.fit(X_train, y_train)"
      ],
      "execution_count": 13,
      "outputs": [
        {
          "output_type": "execute_result",
          "data": {
            "text/plain": [
              "KNeighborsClassifier(algorithm='auto', leaf_size=30, metric='minkowski',\n",
              "                     metric_params=None, n_jobs=None, n_neighbors=9, p=2,\n",
              "                     weights='uniform')"
            ]
          },
          "metadata": {
            "tags": []
          },
          "execution_count": 13
        }
      ]
    },
    {
      "cell_type": "markdown",
      "metadata": {
        "id": "H48Ia3qgAG-R",
        "colab_type": "text"
      },
      "source": [
        "## Test the Model"
      ]
    },
    {
      "cell_type": "code",
      "metadata": {
        "id": "4zKuaNZwAIYv",
        "colab_type": "code",
        "outputId": "0a922983-3ae5-4211-dd75-3a3b200653ea",
        "colab": {
          "base_uri": "https://localhost:8080/",
          "height": 85
        }
      },
      "source": [
        "y_pred = knn.predict(X_test)\n",
        "y_pred"
      ],
      "execution_count": 14,
      "outputs": [
        {
          "output_type": "execute_result",
          "data": {
            "text/plain": [
              "array([1, 0, 1, 0, 0, 0, 0, 0, 0, 1, 1, 1, 1, 0, 0, 1, 1, 0, 0, 1, 1, 1,\n",
              "       0, 0, 0, 0, 1, 0, 0, 0, 1, 0, 1, 0, 1, 0, 0, 0, 1, 1, 0, 0, 0, 0,\n",
              "       0, 0, 0, 1, 0, 0, 0, 0, 0, 0, 0, 1, 0, 0, 1, 1, 1, 1, 1, 1, 1, 0,\n",
              "       0, 0])"
            ]
          },
          "metadata": {
            "tags": []
          },
          "execution_count": 14
        }
      ]
    },
    {
      "cell_type": "markdown",
      "metadata": {
        "id": "dPBqFLfsAU2Z",
        "colab_type": "text"
      },
      "source": [
        "## Evaluate the Model"
      ]
    },
    {
      "cell_type": "code",
      "metadata": {
        "id": "dmX-Q46aAWGw",
        "colab_type": "code",
        "outputId": "772d86f2-546d-4b8d-c06a-c632c459b162",
        "colab": {
          "base_uri": "https://localhost:8080/",
          "height": 34
        }
      },
      "source": [
        "from sklearn.metrics import accuracy_score\n",
        "\n",
        "score = accuracy_score(y_test, y_pred)\n",
        "print(\"Accuracy score:  %.2f\" % score)"
      ],
      "execution_count": 15,
      "outputs": [
        {
          "output_type": "stream",
          "text": [
            "Accuracy score:  0.76\n"
          ],
          "name": "stdout"
        }
      ]
    },
    {
      "cell_type": "markdown",
      "metadata": {
        "id": "MPmxkvfYD4uD",
        "colab_type": "text"
      },
      "source": [
        "Play with the k value above to see different results.  If you run the preprocessing code again, you'll also get different results because the ```test_train_split``` function shuffles the data before splitting it."
      ]
    },
    {
      "cell_type": "markdown",
      "metadata": {
        "id": "g1q9whcsI6mi",
        "colab_type": "text"
      },
      "source": [
        "# Conclusion\n",
        "Again, you want a high accuracy score"
      ]
    }
  ]
}